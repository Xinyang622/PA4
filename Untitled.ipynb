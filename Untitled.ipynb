{
 "cells": [
  {
   "cell_type": "code",
   "execution_count": 163,
   "metadata": {},
   "outputs": [],
   "source": [
    "# convert the <start> <end> to the '$'\n",
    "f2 = open('./data/input2.txt', 'a')\n",
    "\n",
    "with open('./data/input.txt', 'rw') as f:\n",
    "    line = f.readline()\n",
    "    while line:\n",
    "        # print repr(line)\n",
    "        if '<start>' in line:\n",
    "            f2.write('$\\r\\n')\n",
    "        elif '<end>' not in line:\n",
    "            f2.write(line)\n",
    "        line = f.readline()"
   ]
  },
  {
   "cell_type": "code",
   "execution_count": 164,
   "metadata": {},
   "outputs": [],
   "source": [
    "f2.close()"
   ]
  },
  {
   "cell_type": "markdown",
   "metadata": {},
   "source": [
    "以上两块生成新的文件，我把start 和end统一改成了'$'，跑一遍就行了"
   ]
  },
  {
   "cell_type": "code",
   "execution_count": 2,
   "metadata": {},
   "outputs": [],
   "source": [
    "with open('data/input2.txt', 'r') as f:\n",
    "    s_all = f.read()\n",
    "s_all = '\\n'.join(s_all.splitlines())  \n",
    "# s1 = \n",
    "# seq_len = 25\n",
    "# i = 0\n",
    "# data = []\n",
    "# while i + 25 < len(s):\n",
    "#     data.append(list(s[i:i+25]))\n",
    "#     i += 25"
   ]
  },
  {
   "cell_type": "code",
   "execution_count": 30,
   "metadata": {},
   "outputs": [],
   "source": [
    "from collections import Counter\n",
    "counter = Counter(s_all)\n",
    "letter2int = {}\n",
    "i = 0\n",
    "for k, v in counter.most_common():\n",
    "    letter2int[k] = i\n",
    "    i += 1\n",
    "int2letter = {val: key for key, val in letter2int.items()}"
   ]
  },
  {
   "cell_type": "code",
   "execution_count": 4,
   "metadata": {},
   "outputs": [],
   "source": [
    "n_letters = len(letter2int)"
   ]
  },
  {
   "cell_type": "code",
   "execution_count": 5,
   "metadata": {},
   "outputs": [
    {
     "data": {
      "text/plain": [
       "94"
      ]
     },
     "execution_count": 5,
     "metadata": {},
     "output_type": "execute_result"
    }
   ],
   "source": [
    "len(letter2int)"
   ]
  },
  {
   "cell_type": "code",
   "execution_count": 6,
   "metadata": {},
   "outputs": [
    {
     "data": {
      "text/plain": [
       "487982"
      ]
     },
     "execution_count": 6,
     "metadata": {},
     "output_type": "execute_result"
    }
   ],
   "source": [
    "len(s_all)"
   ]
  },
  {
   "cell_type": "code",
   "execution_count": 7,
   "metadata": {},
   "outputs": [],
   "source": [
    "import torch\n",
    "import torch.nn as nn\n",
    "from torch import autograd\n",
    "from torch import optim\n",
    "import torch.nn.functional as F\n",
    "import numpy as np"
   ]
  },
  {
   "cell_type": "code",
   "execution_count": 8,
   "metadata": {},
   "outputs": [
    {
     "data": {
      "text/plain": [
       "True"
      ]
     },
     "execution_count": 8,
     "metadata": {},
     "output_type": "execute_result"
    }
   ],
   "source": [
    "torch.cuda.is_available()"
   ]
  },
  {
   "cell_type": "code",
   "execution_count": 9,
   "metadata": {},
   "outputs": [],
   "source": [
    "class LSTM_RNN(nn.Module):\n",
    "\n",
    "    def __init__(self, embedding_dim, hidden_dim, vocab_size, tagset_size, n_layers, batch_size, drop_out):\n",
    "        super(LSTM_RNN, self).__init__()\n",
    "        self.hidden_dim = hidden_dim\n",
    "        self.batch_size = batch_size\n",
    "        self.n_layers = n_layers\n",
    "\n",
    "        self.word_embeddings = nn.Embedding(vocab_size, embedding_dim)\n",
    "\n",
    "        # The LSTM takes word embeddings as inputs, and outputs hidden states\n",
    "        # with dimensionality hidden_dim.\n",
    "        self.lstm = nn.LSTM(embedding_dim, hidden_dim, n_layers, dropout = drop_out)\n",
    "\n",
    "        # The linear layer that maps from hidden state space to tag space\n",
    "        self.hidden2tag = nn.Linear(hidden_dim, tagset_size)\n",
    "        # self.hidden = self.init_hidden()\n",
    "\n",
    "    def init_hidden(self, batch_size):\n",
    "        # Before we've done anything, we dont have any hidden state.\n",
    "        # Refer to the Pytorch documentation to see exactly\n",
    "        # why they have this dimensionality.\n",
    "        # The axes semantics are (num_layers, minibatch_size, hidden_dim)\n",
    "        return (autograd.Variable(torch.zeros(self.n_layers, batch_size, self.hidden_dim)).cuda(),\n",
    "                autograd.Variable(torch.zeros(self.n_layers, batch_size, self.hidden_dim)).cuda())\n",
    "\n",
    "    def forward(self, sentence,hidden):\n",
    "        batch_size = sentence.size()[1]\n",
    "        seq_lens = sentence.size()[0]\n",
    "        \n",
    "        embeds = self.word_embeddings(sentence)\n",
    "        hidden = repackage(hidden)\n",
    "        lstm_out, hidden = self.lstm(\n",
    "            embeds.view(seq_lens, batch_size, -1), hidden)\n",
    "        tag_space = self.hidden2tag(lstm_out.view(seq_lens * batch_size, -1))\n",
    "        tag_scores = F.log_softmax(tag_space)\n",
    "        return tag_scores, hidden\n",
    "    "
   ]
  },
  {
   "cell_type": "code",
   "execution_count": 10,
   "metadata": {},
   "outputs": [],
   "source": [
    "def repackage(h):\n",
    "    if type(h) == autograd.Variable:\n",
    "        return autograd.Variable(h.data)\n",
    "    else:\n",
    "        return tuple(repackage(v) for v in h)"
   ]
  },
  {
   "cell_type": "code",
   "execution_count": 11,
   "metadata": {},
   "outputs": [],
   "source": [
    "s_train = s_all[:int(len(s_all) * 0.8)]\n",
    "s_valid = s_all[int(len(s_all) * 0.8):]"
   ]
  },
  {
   "cell_type": "code",
   "execution_count": 12,
   "metadata": {},
   "outputs": [
    {
     "data": {
      "text/plain": [
       "6099"
      ]
     },
     "execution_count": 12,
     "metadata": {},
     "output_type": "execute_result"
    }
   ],
   "source": [
    "int(len(s_all) * 0.8) / 64"
   ]
  },
  {
   "cell_type": "code",
   "execution_count": 13,
   "metadata": {},
   "outputs": [],
   "source": [
    "def prepare_sequence(seq, to_ix):\n",
    "    idxs = [to_ix[w] for w in seq]\n",
    "    return idxs\n",
    "\n",
    "def batch_generator(batch_size, chunk_size, s):\n",
    "    i = 0\n",
    "    data = []\n",
    "    while i + chunk_size * batch_size < len(s) - 1:\n",
    "        lines1 = []\n",
    "        lines2 = []\n",
    "        for j in range(batch_size):\n",
    "            lines1.append(s[i + j * chunk_size: i + (j + 1) * chunk_size])\n",
    "            lines2.append(s[i + j * chunk_size + 1: i + (j + 1) * chunk_size + 1])\n",
    "        X = [prepare_sequence(l, letter2int) for l in lines1]\n",
    "        y = [prepare_sequence(l, letter2int) for l in lines2]\n",
    "        X = np.array(X).transpose(1,0)\n",
    "        y = np.array(y).transpose(1,0)\n",
    "        X = torch.LongTensor(X)\n",
    "        y = torch.LongTensor(y)\n",
    "        i += chunk_size * batch_size\n",
    "        X = autograd.Variable(X.cuda())\n",
    "        y = autograd.Variable(y.cuda())\n",
    "        yield X, y"
   ]
  },
  {
   "cell_type": "code",
   "execution_count": 14,
   "metadata": {},
   "outputs": [],
   "source": [
    "# count = 0\n",
    "# for a, b in batch_generator(64, 25, s_train):\n",
    "#     print a.size()\n",
    "#     count += 1\n",
    "# print count"
   ]
  },
  {
   "cell_type": "code",
   "execution_count": 15,
   "metadata": {},
   "outputs": [
    {
     "data": {
      "text/plain": [
       "243"
      ]
     },
     "execution_count": 15,
     "metadata": {},
     "output_type": "execute_result"
    }
   ],
   "source": [
    "len(s_train) / (64 * 25)"
   ]
  },
  {
   "cell_type": "code",
   "execution_count": 16,
   "metadata": {},
   "outputs": [],
   "source": [
    "EMBEDDING_DIM = 64\n",
    "dim = len(letter2int)\n",
    "HIDDEN_DIM = 100\n",
    "batch_size = 64\n",
    "chunk_size = 25\n",
    "n_layers = 2\n",
    "n_epochs = 100\n",
    "drop_out = 0"
   ]
  },
  {
   "cell_type": "code",
   "execution_count": 17,
   "metadata": {},
   "outputs": [],
   "source": [
    "n_train_batch = len(s_train) / (64 * 25)\n",
    "n_valid_batch = len(s_valid) / (64 * 25)"
   ]
  },
  {
   "cell_type": "code",
   "execution_count": 18,
   "metadata": {},
   "outputs": [],
   "source": [
    "model = LSTM_RNN(EMBEDDING_DIM, HIDDEN_DIM, n_letters, n_letters, n_layers, batch_size, drop_out)\n",
    "model = model.cuda()\n",
    "loss_function = nn.NLLLoss()\n",
    "optimizer = optim.Adam(model.parameters(), lr=0.003)"
   ]
  },
  {
   "cell_type": "code",
   "execution_count": 19,
   "metadata": {},
   "outputs": [],
   "source": [
    "record = [0, 0, 0, 0]\n",
    "last_valid_loss = 100000"
   ]
  },
  {
   "cell_type": "markdown",
   "metadata": {},
   "source": [
    "## dropout = 0"
   ]
  },
  {
   "cell_type": "code",
   "execution_count": 20,
   "metadata": {
    "scrolled": false
   },
   "outputs": [
    {
     "name": "stdout",
     "output_type": "stream",
     "text": [
      "training: 2.91382408535\n",
      "valid: 2.49006654024\n",
      "training: 2.2897535641\n",
      "valid: 2.25789434115\n",
      "training: 2.06656215613\n",
      "valid: 2.17357767622\n",
      "training: 1.95309330799\n",
      "valid: 2.12760159969\n",
      "training: 1.87840349341\n",
      "valid: 2.11341966987\n",
      "training: 1.82145350264\n",
      "valid: 2.09001879692\n",
      "training: 1.7761245289\n",
      "valid: 2.06546940406\n",
      "training: 1.73836917593\n",
      "valid: 2.03667980433\n",
      "training: 1.70571998216\n",
      "valid: 2.01773987214\n",
      "training: 1.67590874409\n",
      "valid: 1.99888719916\n",
      "training: 1.65004150612\n",
      "valid: 1.98566819032\n",
      "training: 1.62679333648\n",
      "valid: 1.9807790339\n",
      "training: 1.60482190936\n",
      "valid: 1.97542629242\n",
      "training: 1.58496801819\n",
      "valid: 1.97863162557\n",
      "training: 1.56655652091\n",
      "valid: 1.97954147458\n",
      "training: 1.55087845095\n",
      "valid: 1.98001050353\n",
      "early stopped\n"
     ]
    }
   ],
   "source": [
    "# See what the scores are before training\n",
    "# Note that element i,j of the output is the score for tag j for word i.\n",
    "#inputs = prepare_sequence(training_data[0][0], word_to_ix)\n",
    "# tag_scores = model(inputs)\n",
    "# print(tag_scores)\n",
    "train_loss = []\n",
    "validation_loss = []\n",
    "for epoch in range(n_epochs):  # again, normally you would NOT do 300 epochs, it is toy data\n",
    "    \n",
    "    losses = 0\n",
    "    hidden = model.init_hidden(batch_size)\n",
    "    for X, y in batch_generator(batch_size, chunk_size, s_train):\n",
    "        # Step 1. Remember that Pytorch accumulates gradients.\n",
    "        # We need to clear them out before each instance\n",
    "        model.zero_grad()\n",
    "        # Also, we need to clear out the hidden state of the LSTM,\n",
    "        # detaching it from its history on the last instance.\n",
    "        # Step 2. Get our inputs ready for the network, that is, turn them into\n",
    "        # Variables of word indices.\n",
    "        # sentence_in = prepare_sequence(sentence, word_to_ix)\n",
    "        # targets = prepare_sequence(tags, tag_to_ix)\n",
    "\n",
    "        # Step 3. Run our forward pass.\n",
    "        tag_scores, hidden = model(X, hidden) # X - 25 * 64,\n",
    "        tag_scores = tag_scores.view(-1, dim).cuda() \n",
    "        y = y.contiguous().view(-1).cuda() # convert label y to contiguous\n",
    "\n",
    "        # Step 4. Compute the loss, gradients, and update the parameters by\n",
    "        #  calling optimizer.step()\n",
    "        \n",
    "        loss = loss_function(tag_scores, y)\n",
    "        loss.backward()\n",
    "        optimizer.step()\n",
    "        \n",
    "        losses += loss.data[0]\n",
    "    \n",
    "    losses_valid = 0 \n",
    "    for X, y in batch_generator(batch_size, chunk_size, s_valid):\n",
    "        # Step 1. Remember that Pytorch accumulates gradients.\n",
    "        # We need to clear them out before each instance\n",
    "        model.zero_grad()\n",
    "        # Also, we need to clear out the hidden state of the LSTM,\n",
    "        # detaching it from its history on the last instance.\n",
    "        # Step 2. Get our inputs ready for the network, that is, turn them into\n",
    "        # Variables of word indices.\n",
    "        # sentence_in = prepare_sequence(sentence, word_to_ix)\n",
    "        # targets = prepare_sequence(tags, tag_to_ix)\n",
    "\n",
    "        # Step 3. Run our forward pass.\n",
    "        tag_scores, hidden = model(X, hidden)\n",
    "        tag_scores = tag_scores.view(-1, dim).cuda()\n",
    "        y = y.contiguous().view(-1).cuda()\n",
    "\n",
    "        # Step 4. Compute the loss, gradients, and update the parameters by\n",
    "        #  calling optimizer.step()\n",
    "        \n",
    "        loss = loss_function(tag_scores, y)\n",
    "        losses_valid += loss.data[0]\n",
    "    \n",
    "    record = record[1:]\n",
    "    if losses_valid < last_valid_loss:\n",
    "        record.append(1)\n",
    "    else:\n",
    "        record.append(-1)\n",
    "    if sum(record) == -4:\n",
    "        print 'early stopped'\n",
    "        break\n",
    "    last_valid_loss = losses_valid\n",
    "    train_loss.append(losses / n_train_batch)\n",
    "    validation_loss.append(losses_valid / n_valid_batch)\n",
    "    print 'training:', losses / n_train_batch\n",
    "    print 'valid:', losses_valid / n_valid_batch\n",
    "\n",
    "# See what the scores are after training\n",
    "# inputs = prepare_sequence(training_data[0][0], word_to_ix)\n",
    "# tag_scores = model(inputs)\n",
    "# The sentence is \"the dog ate the apple\".  i,j corresponds to score for tag j\n",
    "#  for word i. The predicted tag is the maximum scoring tag.\n",
    "# Here, we can see the predicted sequence below is 0 1 2 0 1\n",
    "# since 0 is index of the maximum value of row 1,\n",
    "# 1 is the index of maximum value of row 2, etc.\n",
    "# Which is DET NOUN VERB DET NOUN, the correct sequence!\n",
    "# print(tag_scores)"
   ]
  },
  {
   "cell_type": "code",
   "execution_count": 21,
   "metadata": {},
   "outputs": [
    {
     "data": {
      "image/png": "[encoded data removed]",
      "text/plain": [
       "<matplotlib.figure.Figure at 0x7fbf66ec8f90>"
      ]
     },
     "metadata": {},
     "output_type": "display_data"
    }
   ],
   "source": [
    "from matplotlib import pyplot as plt\n",
    "plt.figure()\n",
    "plt.title('Loss')\n",
    "plt.plot(train_loss, label='loss_train')\n",
    "plt.plot(validation_loss, label='loss_validation')\n",
    "plt.legend()\n",
    "plt.show()"
   ]
  },
  {
   "cell_type": "code",
   "execution_count": 190,
   "metadata": {},
   "outputs": [
    {
     "data": {
      "text/plain": [
       "390385"
      ]
     },
     "execution_count": 190,
     "metadata": {},
     "output_type": "execute_result"
    }
   ],
   "source": [
    "len(s_train)"
   ]
  },
  {
   "cell_type": "code",
   "execution_count": 191,
   "metadata": {},
   "outputs": [
    {
     "data": {
      "text/plain": [
       "403200"
      ]
     },
     "execution_count": 191,
     "metadata": {},
     "output_type": "execute_result"
    }
   ],
   "source": [
    "252 * 64 * 25"
   ]
  },
  {
   "cell_type": "code",
   "execution_count": 192,
   "metadata": {},
   "outputs": [
    {
     "data": {
      "text/plain": [
       "16128"
      ]
     },
     "execution_count": 192,
     "metadata": {},
     "output_type": "execute_result"
    }
   ],
   "source": [
    "252 * 64"
   ]
  },
  {
   "cell_type": "code",
   "execution_count": 193,
   "metadata": {},
   "outputs": [
    {
     "data": {
      "text/plain": [
       "Variable containing:\n",
       "    3     2     0  ...     58    21    13\n",
       "    6    20     2  ...     46    17    43\n",
       "    0     0     3  ...      2     4     8\n",
       "       ...          ⋱          ...       \n",
       "    0    10     6  ...     47    35     0\n",
       "    1     3     5  ...      9     9     4\n",
       "    0    12     0  ...     25    51    20\n",
       "[torch.cuda.LongTensor of size 25x64 (GPU 0)]"
      ]
     },
     "execution_count": 193,
     "metadata": {},
     "output_type": "execute_result"
    }
   ],
   "source": [
    "X"
   ]
  },
  {
   "cell_type": "code",
   "execution_count": 194,
   "metadata": {},
   "outputs": [
    {
     "data": {
      "text/plain": [
       "Variable containing:\n",
       "  6\n",
       " 20\n",
       "  2\n",
       " ⋮ \n",
       " 21\n",
       " 13\n",
       "  0\n",
       "[torch.cuda.LongTensor of size 1600 (GPU 0)]"
      ]
     },
     "execution_count": 194,
     "metadata": {},
     "output_type": "execute_result"
    }
   ],
   "source": [
    "y"
   ]
  },
  {
   "cell_type": "code",
   "execution_count": 195,
   "metadata": {},
   "outputs": [
    {
     "data": {
      "text/plain": [
       "torch.Size([1600, 94])"
      ]
     },
     "execution_count": 195,
     "metadata": {},
     "output_type": "execute_result"
    }
   ],
   "source": [
    "tag_scores.size()"
   ]
  },
  {
   "cell_type": "code",
   "execution_count": 196,
   "metadata": {},
   "outputs": [
    {
     "data": {
      "text/plain": [
       "torch.Size([1600])"
      ]
     },
     "execution_count": 196,
     "metadata": {},
     "output_type": "execute_result"
    }
   ],
   "source": [
    "y.size()"
   ]
  },
  {
   "cell_type": "code",
   "execution_count": 197,
   "metadata": {},
   "outputs": [],
   "source": [
    "int2letter = {val: key for key, val in letter2int.items()}"
   ]
  },
  {
   "cell_type": "code",
   "execution_count": 198,
   "metadata": {},
   "outputs": [
    {
     "data": {
      "text/plain": [
       "':'"
      ]
     },
     "execution_count": 198,
     "metadata": {},
     "output_type": "execute_result"
    }
   ],
   "source": [
    "int2letter[9]"
   ]
  },
  {
   "cell_type": "code",
   "execution_count": 32,
   "metadata": {},
   "outputs": [],
   "source": [
    "def prepare_sequence2(seq, to_ix):\n",
    "    idxs = [to_ix[w] for w in seq]\n",
    "    tensor = torch.LongTensor(idxs)\n",
    "    return tensor"
   ]
  },
  {
   "cell_type": "code",
   "execution_count": 73,
   "metadata": {},
   "outputs": [],
   "source": [
    "def generate(model, prime_str='$', predict_len=100, temperature=0.5):\n",
    "    hidden = model.init_hidden(1)\n",
    "    prime_input = prepare_sequence2(prime_str*1, letter2int)\n",
    "    predicted = prime_str\n",
    "\n",
    "    # Use priming string to \"build up\" hidden state\n",
    "    for p in range(len(prime_str) - 1):\n",
    "        _, hidden = model(prime_input[p], hidden)\n",
    "    inp = autograd.Variable(prime_input.cuda())\n",
    "    inp = inp.view(1,-1)\n",
    "    for p in range(predict_len):\n",
    "        output, hidden = model(inp, hidden)\n",
    "        \n",
    "        # Sample from the network as a multinomial distribution\n",
    "        output_dist = output.data.div(temperature).exp()\n",
    "        top_i = torch.multinomial(output_dist, 1)[0]\n",
    "        # return top_i\n",
    "        # Add predicted character to string and use as next input\n",
    "        temp = int2letter[top_i[0]]\n",
    "#         if temp==\"$\":\n",
    "#             break\n",
    "        predicted += temp\n",
    "        inp = autograd.Variable(prepare_sequence2(temp, letter2int).cuda())\n",
    "        inp = inp.view(1,-1)\n",
    "\n",
    "    return predicted"
   ]
  },
  {
   "cell_type": "code",
   "execution_count": 201,
   "metadata": {},
   "outputs": [],
   "source": [
    "pred = generate(model, prime_str='$', predict_len=1000, temperature=0.75)"
   ]
  },
  {
   "cell_type": "code",
   "execution_count": 230,
   "metadata": {
    "scrolled": true
   },
   "outputs": [
    {
     "name": "stdout",
     "output_type": "stream",
     "text": [
      "$\r\n",
      "X:5\r\n",
      "C:The of the Mcooll's\r\n",
      "R:polka\r\n",
      "Z:id:hn-polka-43\r\n",
      "M:2/4\r\n",
      "L:1/8\r\n",
      "K:D\r\n",
      "de/f/e/d/e/f/g ged|ce ge|dcB AGF|EF/E/ DA|BA FA|Bd dc|AD FA|BA EG|\r\n",
      "\"F\"AA AB|cA (3Bc|1 A>B A>B|c>de dB|AB AB/c/|dB ABc|AA AB/A/|1 Bd ge|def gag|fd Bg|af gb|ef/e/d BA|AF BA/D|AF AG|FA AB|cB Bd|ef c2 cc|ef/e/ f/g/e/d/e/d/e/f/g/|age eA|A2 AG|AFA AB/A/|A/G/E/F/A/B/D/A/ GF|EG Bd|ed cA|A>B AB/c/d|AF/A/B/G/A B>A|de/d/e/f/ f/e/d/|cBA|Bce dcB|AGA BAA|edc BAd|cA A2|eA BA/G/|AG AG|FGA Bd|ee e>f|edB ec|fe fe/f/|ged ecA|BAB A2G|e2 ce ce|e>fA BA:|2 ed cA|1 d2 de|fe e2|fe dc Bd|ed cB|AB AG/A/|Bd dB|\r\n",
      "P:variations:\r\n",
      "D>D DE/F/ Bc |1 G2 GB/A/ |\r\n",
      "a/g/e/f/ ef/e/ | fe/f/ ge/e/ dB |1 c2 BA|1 GE/2EF GF/F/G/|1 FA AB/A/|Bd d>e|dB cA|\r\n",
      "\n"
     ]
    }
   ],
   "source": [
    "print pred"
   ]
  },
  {
   "cell_type": "markdown",
   "metadata": {},
   "source": [
    "## abc1"
   ]
  },
  {
   "cell_type": "code",
   "execution_count": 69,
   "metadata": {},
   "outputs": [
    {
     "name": "stdout",
     "output_type": "stream",
     "text": [
      "$\r\n",
      "X:7\r\n",
      "T:Berennaired of the Moor to March est Ratherean's Mazurka\r\n",
      "T:Ternd in Ging eendish Jig\r\n",
      "R:polka\r\n",
      "D:Mary Freaned, The\r\n",
      "R:polka\r\n",
      "D:Johncelie Gonnet Brithe\r\n",
      "R:polka\r\n",
      "Z:id:hn-polka-44\r\n",
      "M:2/4\r\n",
      "L:1/8\r\n",
      "K:A\r\n",
      "A2 BA|d>e fe|fe d>c|BA A2:|2 eA/A/ BG|AB/A/G/A/ BG|AB/A/G/F/ ED|ED ED|E2 E2:|\r\n",
      "|:fe/f/ gg/e/|dB B/A/B/d/|ed|ed cB|AF EF|Ec cB/A/|BAF GE |1 AG AB|AF AF | AB/A/G Bc|d2 dg|af/f/ ge|ce/e/ dB|cA FA|GFA BA|BG GB|AF AG|FGA GE|D>E EF|EA A>B AG GB/d/|ed BA|G>E E2:|\r\n",
      "|:ef/e/ dB|cA FA|DF/G/ AB/c/|1 g/f/g/f/e/e/ fe|dc AB|cA AF|E>D EF|GF GB|df/e/ dB|BA FA|BA G2:|\r\n",
      "\n"
     ]
    }
   ],
   "source": [
    "print generate(model, prime_str='$', predict_len=1000, temperature=0.5)"
   ]
  },
  {
   "cell_type": "code",
   "execution_count": 226,
   "metadata": {},
   "outputs": [
    {
     "name": "stdout",
     "output_type": "stream",
     "text": [
      "$\n",
      "X:15\n",
      "T:Jimme and Bongerbo Dernyty\n",
      "T:Musin\n",
      "D:Mary Berestier & Cooney: Stairso eado\n",
      "R:polka\n",
      "H:See also #39\n",
      "Z:id:hn-polka-10\n",
      "M:2/4\n",
      "L:1/8\n",
      "K:D\n",
      "DB, | D,3 |\n",
      "EAG AB/c/d/c/|BA FA|BA AB:|\n",
      "|:Ad/f/g/f/e/ fe|dB AB|cd/e/ dB|cB AG|BA BA|BA AB/A/|dc dB/A/|BG GB/A/|BA AB/c/|dB AB/c/|BA AB/d/|ed AB|Add de|fbag efg|edB BAB|AB/A/G/A/B/A/G/A/|BA FA|BA AGD|ED D2:|\n",
      "|:eaag ecA|BA FA|BA A>B|Ad/c/d/e/ fed|cA AA|B/c/d/e/ fe|fg fe|fd/e/ f/e/d/c/|BA B/c/d/e/|dB AB/c/d|ed AG|BA B/A/B/c/|dB/A/ GE|FE DF|A>B AG|AB/c/d/e/ fd|ec d>e|dB Bc|dB BB|AG FE|D2 DE||\n",
      "P:variations:\n",
      "d/B/B/A/G/A/B/c/ BA|BA ABA|BA AB/A/|1 BG GB:|2 GE/E/|DG AB|cA AB|AB/A/G/E/ FED|DB/A/ GB|AF DG|BA B/c/d/e/|dB dB|dB AB|dB/d/e/f/g/ fe|dB AB/c/|dB AB/c/d|ed cAG|ED AG GA|BA AB/c/d|ed cA|BA AB|A2 A2:|\n",
      "|:BA AB|AG FGA|BA AG/A/B/c/|dB AG|Ad dB|AB AB|AB/A/G/F/G/A/|Bc BA|BA AB:|2 BAG GABd||\n",
      "|:g2 a|\n",
      "af/g/e/d/ Bd|ed Be/c/d|Bd/c/d/e/ f/e/d/e/|fd Bd|ed dB|A>B cd|ed cB|ABA B/A/G/A/|BA AB|GB/d/ ed|BA AGA|BA GE|DE AB:|2 G2 GE|(3ABc AB|AddB|AG GB|dB AB/A/|GE EF/E/|DE\n"
     ]
    }
   ],
   "source": [
    "print generate(model, prime_str='$', predict_len=1000, temperature=0.5)"
   ]
  },
  {
   "cell_type": "code",
   "execution_count": 136,
   "metadata": {
    "scrolled": true
   },
   "outputs": [
    {
     "name": "stdout",
     "output_type": "stream",
     "text": [
      "$\r\n",
      "X3MinestlA\r\n",
      "GFEF|BGE FFD|F3A cP:|(t/ct\r\n",
      "K:Sberlersonpe_:\r\n",
      "M:82\r\n",
      "T:Favesh'-898c?m-N.ordoMMc5)|1 B2A B6 eB~e:babAF dAG ced2e|\"MHocxM\r\n",
      "P:~olianc=Bcf/d .D.G\"CD By/oF\r\n",
      "N-zd|FBA^Mz -0,1\r\n",
      ":BWigiernmy\",feB|\r\n",
      "fgedgA Bie2f2|\r\n",
      "HfcB/A/f/d/e/ GB/A>lpy'>i\r\n",
      "c/d>cdf|e>e def|ed  fe|dB/A/eat/oubear/orns\r\n",
      "W:S' Ppoveraitew.\r\n",
      "R:Mauki>G:|2Bc Bc/B/2Ddraid|A>G | B>+tbl'ez8:|/8/d!FA:N-diig. Wi'fo(316699h.4|f3!t.|(^ed e>d)]|gG/ F>/G/F /B/c DA>DDF::Pg qi Hadfs, Seopnk, haewfe|dA|GEBED dBAdve\"X:52\r\n",
      "T:Hincuy'\r\n",
      "O:VdgfiagcAG fA|FA A/Be||ae/B/7ig7 2BBB Bdc|BAAB~ D2e cB|gnmar #)\r\n",
      "Coy?\r\n",
      "W:Coby #2/8\r\n",
      "K:AD>GbBDg/e/c/=FA B|\r\n",
      "fe \"~D3DF ~E3~F>cG||DBA e=BdO:79.B2E2::vc D>EE|FA ABd|Bd_(3fgf|edc|1\r\n",
      "\n"
     ]
    }
   ],
   "source": [
    "print generate(model, prime_str='$', predict_len=1000, temperature=2)"
   ]
  },
  {
   "cell_type": "markdown",
   "metadata": {},
   "source": [
    "## RMSprop"
   ]
  },
  {
   "cell_type": "code",
   "execution_count": 82,
   "metadata": {},
   "outputs": [],
   "source": [
    "EMBEDDING_DIM = 64\n",
    "dim = len(letter2int)\n",
    "HIDDEN_DIM = 100\n",
    "batch_size = 64\n",
    "chunk_size = 25\n",
    "n_layers = 1\n",
    "n_epochs = 100\n",
    "drop_out = 0.3"
   ]
  },
  {
   "cell_type": "code",
   "execution_count": 83,
   "metadata": {},
   "outputs": [],
   "source": [
    "n_train_batch = len(s_train) / (64 * 25)\n",
    "n_valid_batch = len(s_valid) / (64 * 25)"
   ]
  },
  {
   "cell_type": "code",
   "execution_count": 84,
   "metadata": {},
   "outputs": [],
   "source": [
    "model = LSTM_RNN(EMBEDDING_DIM, HIDDEN_DIM, n_letters, n_letters, n_layers, batch_size, drop_out)\n",
    "model = model.cuda()\n",
    "loss_function = nn.NLLLoss()\n",
    "optimizer = optim.RMSprop(model.parameters(), lr = 0.001)"
   ]
  },
  {
   "cell_type": "code",
   "execution_count": 85,
   "metadata": {},
   "outputs": [],
   "source": [
    "record = [0, 0, 0, 0]\n",
    "last_valid_loss = 100000"
   ]
  },
  {
   "cell_type": "code",
   "execution_count": 86,
   "metadata": {
    "scrolled": false
   },
   "outputs": [
    {
     "name": "stdout",
     "output_type": "stream",
     "text": [
      "Epoch:0\n",
      "training: 2.69251740224\n",
      "valid: 2.44114087025\n",
      "Epoch:1\n",
      "training: 2.27164633382\n",
      "valid: 2.26456572612\n",
      "Epoch:2\n",
      "training: 2.11211296021\n",
      "valid: 2.1785028557\n",
      "Epoch:3\n",
      "training: 2.01295781626\n",
      "valid: 2.12891220848\n",
      "Epoch:4\n",
      "training: 1.94373453154\n",
      "valid: 2.09698904753\n",
      "Epoch:5\n",
      "training: 1.89171042707\n",
      "valid: 2.07651305\n",
      "Epoch:6\n",
      "training: 1.85049531538\n",
      "valid: 2.06309276422\n",
      "Epoch:7\n",
      "training: 1.81668498879\n",
      "valid: 2.05394305785\n",
      "Epoch:8\n",
      "training: 1.78814301716\n",
      "valid: 2.047038728\n",
      "Epoch:9\n",
      "training: 1.76368807471\n",
      "valid: 2.04118683736\n",
      "Epoch:10\n",
      "training: 1.74229338876\n",
      "valid: 2.03585975766\n",
      "Epoch:11\n",
      "training: 1.72327615253\n",
      "valid: 2.03061415553\n",
      "Epoch:12\n",
      "training: 1.70619740064\n",
      "valid: 2.02517653306\n",
      "Epoch:13\n",
      "training: 1.69072602806\n",
      "valid: 2.01959358056\n",
      "Epoch:14\n",
      "training: 1.67661198324\n",
      "valid: 2.01396487355\n",
      "Epoch:15\n",
      "training: 1.66366387787\n",
      "valid: 2.00839303335\n",
      "Epoch:16\n",
      "training: 1.65176105205\n",
      "valid: 2.0029795905\n",
      "Epoch:17\n",
      "training: 1.64077345874\n",
      "valid: 1.99786952535\n",
      "Epoch:18\n",
      "training: 1.63056177759\n",
      "valid: 1.99321851134\n",
      "Epoch:19\n",
      "training: 1.62106668164\n",
      "valid: 1.98900513649\n",
      "Epoch:20\n",
      "training: 1.61217857045\n",
      "valid: 1.98524610798\n",
      "Epoch:21\n",
      "training: 1.60382798596\n",
      "valid: 1.98185507258\n",
      "Epoch:22\n",
      "training: 1.595955026\n",
      "valid: 1.97873777747\n",
      "Epoch:23\n",
      "training: 1.58850753111\n",
      "valid: 1.97586174806\n",
      "Epoch:24\n",
      "training: 1.58147133599\n",
      "valid: 1.97324421803\n",
      "Epoch:25\n",
      "training: 1.57475422586\n",
      "valid: 1.97087033788\n",
      "Epoch:26\n",
      "training: 1.56836220929\n",
      "valid: 1.96870976686\n",
      "Epoch:27\n",
      "training: 1.56226203496\n",
      "valid: 1.96680000424\n",
      "Epoch:28\n",
      "training: 1.55640482019\n",
      "valid: 1.96507557631\n",
      "Epoch:29\n",
      "training: 1.55081875751\n",
      "valid: 1.96351945202\n",
      "Epoch:30\n",
      "training: 1.54545470815\n",
      "valid: 1.96213359435\n",
      "Epoch:31\n",
      "training: 1.54030231905\n",
      "valid: 1.9608762304\n",
      "Epoch:32\n",
      "training: 1.53535337777\n",
      "valid: 1.95973152518\n",
      "Epoch:33\n",
      "training: 1.53057544908\n",
      "valid: 1.95866710941\n",
      "Epoch:34\n",
      "training: 1.52600706286\n",
      "valid: 1.95766292214\n",
      "Epoch:35\n",
      "training: 1.52155024157\n",
      "valid: 1.9568194588\n",
      "Epoch:36\n",
      "training: 1.51728534698\n",
      "valid: 1.95600867271\n",
      "Epoch:37\n",
      "training: 1.51313532331\n",
      "valid: 1.95538260142\n",
      "Epoch:38\n",
      "training: 1.50913506133\n",
      "valid: 1.95478263497\n",
      "Epoch:39\n",
      "training: 1.50524501472\n",
      "valid: 1.95435200532\n",
      "Epoch:40\n",
      "training: 1.50145999443\n",
      "valid: 1.95396933158\n",
      "Epoch:41\n",
      "training: 1.49782631353\n",
      "valid: 1.95369592905\n",
      "Epoch:42\n",
      "training: 1.49434640255\n",
      "valid: 1.95348956386\n",
      "Epoch:43\n",
      "training: 1.49085457237\n",
      "valid: 1.95337924163\n",
      "Epoch:44\n",
      "training: 1.48753520883\n",
      "valid: 1.95322868029\n",
      "Epoch:45\n",
      "training: 1.48425117417\n",
      "valid: 1.95312937101\n",
      "Epoch:46\n",
      "training: 1.48116380884\n",
      "valid: 1.95307453672\n",
      "Epoch:47\n",
      "training: 1.47805722432\n",
      "valid: 1.95305970709\n",
      "Epoch:48\n",
      "training: 1.47508644027\n",
      "valid: 1.95302004417\n",
      "Epoch:49\n",
      "training: 1.47221572581\n",
      "valid: 1.95304240187\n",
      "Epoch:50\n",
      "training: 1.46937372876\n",
      "valid: 1.95315425197\n",
      "Epoch:51\n",
      "training: 1.46661902578\n",
      "valid: 1.95321619908\n",
      "Epoch:52\n",
      "early stopped\n"
     ]
    }
   ],
   "source": [
    "# See what the scores are before training\n",
    "# Note that element i,j of the output is the score for tag j for word i.\n",
    "#inputs = prepare_sequence(training_data[0][0], word_to_ix)\n",
    "# tag_scores = model(inputs)\n",
    "# print(tag_scores)\n",
    "train_loss = []\n",
    "validation_loss = []\n",
    "for epoch in range(n_epochs):  # again, normally you would NOT do 300 epochs, it is toy data\n",
    "    print 'Epoch:%d'% epoch\n",
    "    losses = 0\n",
    "    hidden = model.init_hidden(batch_size)\n",
    "    for X, y in batch_generator(batch_size, chunk_size, s_train):\n",
    "        # Step 1. Remember that Pytorch accumulates gradients.\n",
    "        # We need to clear them out before each instance\n",
    "        model.zero_grad()\n",
    "        # Also, we need to clear out the hidden state of the LSTM,\n",
    "        # detaching it from its history on the last instance.\n",
    "        # Step 2. Get our inputs ready for the network, that is, turn them into\n",
    "        # Variables of word indices.\n",
    "        # sentence_in = prepare_sequence(sentence, word_to_ix)\n",
    "        # targets = prepare_sequence(tags, tag_to_ix)\n",
    "\n",
    "        # Step 3. Run our forward pass.\n",
    "        tag_scores, hidden = model(X, hidden) # X - 25 * 64,\n",
    "        tag_scores = tag_scores.view(-1, dim).cuda() \n",
    "        y = y.contiguous().view(-1).cuda() # convert label y to contiguous\n",
    "\n",
    "        # Step 4. Compute the loss, gradients, and update the parameters by\n",
    "        #  calling optimizer.step()\n",
    "        \n",
    "        loss = loss_function(tag_scores, y)\n",
    "        loss.backward()\n",
    "        optimizer.step()\n",
    "        \n",
    "        losses += loss.data[0]\n",
    "    \n",
    "    losses_valid = 0 \n",
    "    for X, y in batch_generator(batch_size, chunk_size, s_valid):\n",
    "        # Step 1. Remember that Pytorch accumulates gradients.\n",
    "        # We need to clear them out before each instance\n",
    "        model.zero_grad()\n",
    "        # Also, we need to clear out the hidden state of the LSTM,\n",
    "        # detaching it from its history on the last instance.\n",
    "        # Step 2. Get our inputs ready for the network, that is, turn them into\n",
    "        # Variables of word indices.\n",
    "        # sentence_in = prepare_sequence(sentence, word_to_ix)\n",
    "        # targets = prepare_sequence(tags, tag_to_ix)\n",
    "\n",
    "        # Step 3. Run our forward pass.\n",
    "        tag_scores, hidden = model(X, hidden)\n",
    "        tag_scores = tag_scores.view(-1, dim).cuda()\n",
    "        y = y.contiguous().view(-1).cuda()\n",
    "\n",
    "        # Step 4. Compute the loss, gradients, and update the parameters by\n",
    "        #  calling optimizer.step()\n",
    "        \n",
    "        loss = loss_function(tag_scores, y)\n",
    "        losses_valid += loss.data[0]\n",
    "    \n",
    "    record = record[1:]\n",
    "    if losses_valid < last_valid_loss:\n",
    "        record.append(1)\n",
    "    else:\n",
    "        record.append(-1)\n",
    "    if sum(record) == -4:\n",
    "        print 'early stopped'\n",
    "        break\n",
    "    last_valid_loss = losses_valid\n",
    "    train_loss.append(losses / n_train_batch)\n",
    "    validation_loss.append(losses_valid / n_valid_batch)\n",
    "    print 'training:', losses / n_train_batch\n",
    "    print 'valid:', losses_valid / n_valid_batch\n",
    "\n",
    "# See what the scores are after training\n",
    "# inputs = prepare_sequence(training_data[0][0], word_to_ix)\n",
    "# tag_scores = model(inputs)\n",
    "# The sentence is \"the dog ate the apple\".  i,j corresponds to score for tag j\n",
    "#  for word i. The predicted tag is the maximum scoring tag.\n",
    "# Here, we can see the predicted sequence below is 0 1 2 0 1\n",
    "# since 0 is index of the maximum value of row 1,\n",
    "# 1 is the index of maximum value of row 2, etc.\n",
    "# Which is DET NOUN VERB DET NOUN, the correct sequence!\n",
    "# print(tag_scores)"
   ]
  },
  {
   "cell_type": "code",
   "execution_count": 87,
   "metadata": {},
   "outputs": [
    {
     "data": {
      "image/png": "[encoded data removed]",
      "text/plain": [
       "<matplotlib.figure.Figure at 0x7fbf4d7b4510>"
      ]
     },
     "metadata": {},
     "output_type": "display_data"
    }
   ],
   "source": [
    "plt.figure()\n",
    "plt.title('Loss')\n",
    "plt.plot(train_loss, label='loss_train')\n",
    "plt.plot(validation_loss, label='loss_validation')\n",
    "plt.legend()\n",
    "plt.show()"
   ]
  },
  {
   "cell_type": "code",
   "execution_count": 90,
   "metadata": {
    "scrolled": false
   },
   "outputs": [
    {
     "name": "stdout",
     "output_type": "stream",
     "text": [
      "$\n",
      "X:48:|\n",
      "$\n",
      "X:23\n",
      "T:Cromo Pwayygal. Orege ||\n",
      "$\n",
      "X:18\n",
      "T:Plap de bley's the Hestingder, The\n",
      "O:Fran Bally Sear The\n",
      "R:polka\n",
      "D:MaDFD | ~G3Bde:|\n",
      "$\n",
      "X:38\n",
      "T:Colter\n",
      "R:retion-30\n",
      "M:C|\n",
      "K:Edor\n",
      "E2 A2AF|G3A Bd^g|1 e4\n",
      "T:Dave Horen's Carther, The L'ORyadst ency\n",
      "T:Kince Bolley 1 Slingdie of frot, The\n",
      "D:Jor it elugne's Cargel & Mor.\n",
      "D1 ed egef|g2ge dcAA|Laist, Ccheetlen May'siad the Rea~~A2ed|d2de fg|{B}cBGB d2fag afgB cdef|ed~B2 BGG>D|\n",
      "F2D2 DB,2A, A,F, | F,D, G,2 | D3AFE E2GA:|2 EEDE ce~c2 |\n",
      "B^gdded cd^cdogh fe Marssop\n",
      "R:polka\n",
      "R:reel\n",
      "Z:id:hn-reel-C2#16\n",
      "D:Starde\n",
      "Z:id:hn-re Marche\n",
      "T:Pad:Proveny Maddher's\n",
      "T:Ol MicE (3Bdg|abgf gedg|fd~B2 Bdec|=AGGE EDDGFG|AAFA ~A3B|cABc|defd eded|cecA|G2A||\n",
      "$\n",
      "X:47\n",
      "T:Jape, id wheru\n",
      "S:Dovannan: \n",
      "R:polka\n",
      "H:See allorsM:2/2\n",
      "F>E EF|DFDF G2G2|BABA Ggag|efgf g2ag|akamaber\n",
      "Z:id:hn-reel-70\n",
      "D:DD|~D3FEF||\n",
      "$\n",
      "X:38\n",
      "T:Ont Frome #te/f/g/ ae|fB ef|efgf g2ag|edge d2Bd|BG~E2 EEE2:|\n",
      "|: dBA FGAB |\n",
      "G2A B2Bc | defe dcBA |1 AGEF Addc | d2ef gfed | cA~A2 g2dB|ABAG CDBA|GABc dfag||1 BG~G2 BcAG|F2E E2DE FAGc d2ec|edBF E2:|\n",
      "$\n",
      "X:16\n",
      "T:Sorne Maichel tune Keaney Hared par's Marndy\n",
      "D:Brbor McPar Michel BE3EcB:|2 gedB ceed|cAGF EG~G2|(3GGB BA|GB,E DA||\n",
      "$\n",
      "X:76\n",
      "T:Mhig, Then elowets\n",
      "T:Cyads Modsher, The\n",
      "R:polka\n",
      "H:Alse A\"Bd|g2 F2 D|GEE E2e||\n",
      "|1/G/E/E/|ED DE||\n",
      "$\n",
      "X:85\n",
      "T:Pavaiediec egeg|\n",
      "edBA B~G2 ABGA||\n",
      "$\n",
      "X:32\n",
      "T:Mngtlady id Strover.\n",
      "Z:id:hn-reel-23\n",
      "H:Seeff and\n",
      "Z:id:hn-cA AG~E2|1 fd<agfg ecAF|FA~A2 d2fe|dedB ~c3B|cee ecAB|cBcd BcdB|1\n",
      "W:.lsent\n",
      "Z:id:hn-ho gaing|BeGBgG EDD|1 D2A Bde|dgfg A2 age:whe Stamhnin~FE|~E3A BAFA|FDDA,FE FDDHF|Adga brieker\n",
      "H:march-4\n",
      "4\n",
      "T:Sway: E3d:|\n",
      "|:Bdgefd|egag fefg|gece f2ef|dBAG EAA2c2|1 BddB BGGB G2:|\n",
      "|:dB|BAAF GDFA|\n",
      "BFD FEF|1 Ad efed | e2e2g2 dfed|ce Aded|B2ga bgae|ge~g2 agge|ddBd ~g3d | efge dBGB |1 BAA2 GBdB | dB<BAG A2:|\n",
      "|:(3c'a fe fd|cBcA ABGE|~A3D D2:|\n",
      "|: efg edBG ||\n",
      "$\n",
      "X:2\n",
      "T:Pades \"The allidc Styr\n",
      "R:reel\n",
      "Z:id:hn-reel-P:version: H'a Chiso pley: AB | eefg | fe^cA ABcA|dcBA BAFG|FA A2 F2:|\n",
      "$\n",
      "X:25\n",
      "T:KiNorthcy reared, ad the ornpipe, The to gare:-7\n",
      "M:2/4\n",
      "L:1/8\n",
      "K:D\n",
      "(3efg fa g2D2|(3AAB AGEG cDEA|\n",
      "BedB BG~G2:|\n",
      "$\n",
      "X:48\n",
      "T:Bowdlandid\n",
      "D:Michinn Matecd's Tumer the version: nois of the Podringet, The\n",
      "R:22\n",
      "Z:id:hn-r dobg-12\n",
      "M:Ec|T:Cer the Hure\n",
      "Z:id:hn-reel Phigiir Maec dBAG Adfa|~e3f defd|=c2A2 d2f|AcdA Ggge|dBAG A2ed|1 e2dc d2:c D2:|\n",
      "$\n",
      "X:13\n",
      "T:Chartlanpion ros in D..\n",
      "D:Hurtsh in O: Ats, ,4^f|\n",
      "~g3a A2D2|d3efg|fdaref. GEEBdg|~a3/2/g/a/ gfea | bgaf edcA |:A>D ~Acdf 4fed|c2e2 d2de:Trick Reevest Turlid in BDD|A2ec de|\n",
      "d^c GA~G2 BG~G2 dg~Bd|ABcB A2dA|de fc'fa|bolka\n",
      "D:See awas:  EdA ABAG|AGAB cABF|DGAB cAGA|~B3B ABcd|e2ce AfAF|BAGF DEFichel Leith L4\n",
      "R:reel\n",
      "D:Massee-tin Rockafdi\" 188.g. phey.\n",
      "R:polka\n",
      "Z:id:hn-reel-tortle\n",
      "R:retit Wordf e2dc|BG~d2 BABB|cA^cA dfed|cAdB BAGE|\n",
      "~G3 GDE d2cB|\"Am\"AF GA|~B3 BGA|BGBd gBcd|gfec dBGB|edBA B2GA||\n",
      "$\n",
      "X:27\n",
      "T:Baller-lall's\n",
      "T:Mcurther Phis pulai\n",
      "V:1\n",
      "M:2/4\n",
      "L:1/8\n",
      "M:6/8\n",
      "K:D\n",
      "E2||\n",
      "|: BAFA GABc | AGFE D2:|\n",
      "|:~g3|fed d2d:|\n",
      "|:e>fge decA|GABc d2|\n",
      "a2fe dfd2|edef gedB:|2 gefed eded|d2fd edBG|G2FA GBdg|bgec defd|1 d2AG A2^cf|gece defg|agf ged|cdef ecAB|cAFA | A2c2 BGBA|G2Ad Bgdg|edgf ed|eg~g2 dBGB|cdcB Mac|BAGA B2BA|\n",
      "GAcA (3BAF FB|ABAF GEDE|\n",
      "~G3G FECD|~A3F A2B|AF DE|1 A2 cafA A2:|\n",
      "|:df|gb fedB|Adfa bge|defg ffdf|eab^g agfg|~g3 dBG||\n",
      "P:Bb\n",
      "M/2AG FGBA|~G3F GABd||\n",
      "$\n",
      "X:98\n",
      "T:Aut elugh:-29\n",
      "H:The\n",
      "R:reel Ad:|\n",
      "|:gd|(3Bc Bd BAFA|GABc d2:|2 dedB GAG\n",
      "R:hong f2ef|BAAf ~G3|~G2Bd cAFA|fa~f2 edBA|BAGE FGAB|cA~A2 A>DGF|GABd dBAG|A~G2 Bdgf|~g3ege fdedBd|BBGA BAGF|~E3E GBGG|~f3edB c|cde agfa|baa Agg||\n",
      "$\n",
      "X:20\n",
      "T:Jumix\n",
      "ce fd|(3a/b/a/b/a/|balate\n",
      "H:Also playerso woddin. Lootter name\n",
      "O:Franceathtis hnt verssi\n",
      "T:Ste the Also the Mohredche2\n",
      "T:Home to ddg egdB|Aled in But AfAa ge|1 fdBc|dedd | +D,2 G,F, | DE E2EE |\n",
      "F3G FDNion: F/E/G/E/F/E/D/ |\n",
      "D/E/F/E/D/D/F GEDE E2:|\n",
      "K:Edor\n",
      "edcB d2ef|fdfd ~a3a|b2gg degf|edBA B2Bd|eced ede2|ce~g2 ede2|AG~A2 BdBA|1 d2fd dedB|cdcB {cBAGBA |\n",
      "BAGF Ecdc | B4cd | ABAB AGEF ||\n",
      "|:df gfeg|agff dege|dBGB dBG|AB AB/A/B/B/)G DEDE | AddB cege|fdde dBGB|AFAB cABd|b2abge dgba|~gbag EFGE||\n",
      "$\n",
      "X:7\n",
      "T:Fart. Aef agdB ABcd|B4 E2 ||\n",
      "f2ga g2a2|gedB AFAB|cBAF ~a3|gfdB|~E3 d2dA|Bcde fdAF|~D3~G2GB|AcBA Ggfg|~bbgb ageg|fede fdBd|ed~dB BABd|B2cA AEG2||\n",
      "|:db2 afge|decA AGD2:|\n",
      "|:~B2d faf|\n",
      "gag|\n",
      "gfeg|a2ab ed^c|edBd gfed|(3B2BB ddAF|GBge d3g|fefef2|A,DF A2fe | fdA^F E2BG | DGED GDEF |\n",
      "EFGFGA BD~E2^c|\n",
      "~A3B defg|faad2 BdcA|BGFG EDD2||\n",
      "|:efg fedd|~g3d cdeg|~F3A BAFB|GED8|A2FE D2A,>C|DFEE E3D|\n",
      "~B3 dcB:|2 edB2 gBdg|fedB A2FG|ABAc dB^B|Addc cAGF||\n",
      "~a3by & wet eeht Fley's\n",
      "R:reel Reerms\n",
      "R:--\n",
      "R:roumo, #83.\n",
      "Z:ith MonneF\n",
      "Z:id:hn-reel-mar de lanned in the hary Fidh reck, The\n",
      "T:Kave otr,/sst\n",
      "R:jig\n",
      "H:Ther Bally of \"The Clams of AukiredA GFad|~g3a bgag|ga~EG Ac G2:|\n",
      "|:ge gecans: 4. |\n",
      "L:1/4\n",
      "K:D\n",
      "Acd BA|\n",
      "dd de|dc BA|e2e>c AF|Az Bd|edc d2d:|\n",
      "$\n",
      "X:2fren's Gravouscher of and Cohtittie becEA |\n",
      "L:1/8\n",
      "K:D\n",
      "GABc BGE2|\n",
      "D.A2 EF|G2GE FDD2:|\n",
      "$\n",
      "X:48\n",
      "T:Rathie Players at fith:2 bAA cAcB|d2df ge|ed/d/ e^fe|cA/F//F/ EF||\n",
      "P:var d2ef | cAB^d ecdg | dB~E2 ce/d/c/B/A/|1 A2 Ad||\n",
      "$\n",
      "X:72\n",
      "T:Brlar to des of tunes Moreeman.\n",
      "Z:id:hn-reel-125\n",
      "D:Janks aliss Foiving Widan's eoh O'Flinne Stains.\n",
      "D:Marts vifreel Berreel, The\n",
      "R:polka\n",
      "Z:id:hn-raigh on S Royra the 2fed earros tu groy, The\n",
      "R:reel Fandolka\n",
      "R:polka\n",
      "H:Anshel BELLON - 2006-210\n",
      "Z:id:hn-reel-13\n",
      "Z:id:hn-reel-34\n",
      "M:C|\n",
      "K:AG\n",
      "Be gfgut in G,2|B,E ED|Ed~d2 gedB|AG~G2 BA~B2|\n",
      "dfaf gabg|ag~g2 BABd gedd|gdgb aedB:|2 Bdgf eE~E2 EDBE|F>GA GBc|1 dcdd BABc|d2dA B2dg|~g3g agff|dcAG BddA|=dfda B2cG|AFDE FDEA|\n",
      "edec dcBA|A4Bd | e2gf (3efg e2 defg |1 d2Bd AGED |1 FE~G2 ABAF DEFE|B3G EGAB|ccAG EGEE|D2|D2 G2|\n",
      "(3BAd BA A2AB|1 BAAf gedc|BAGF GE~g2|fa~a2 bg~g2~e3fed edBG|EGdBdd ~d3d BG BAef|1gfed|cA{AdcA2 Adfd|edcB ABdf|e2dA BGAB|\n",
      "E>DA | AFDFAB cAFD ||\n",
      "P:varialif part, The\n",
      "R:reele-14\n",
      "M:C|\n",
      "K:D\n",
      "(3cdef|eade gfec|dAFc AFEA|d2f | f2ed cd^cB|Ad~g2 bgec|\n",
      "L:1d:|2 fdef gfed | bagf | aced Be~e2 egeg|ed g2||\n",
      "|:af/g/b/a/g/f/ ge|dB/A/ A/G/A/A/B:|2 edcd |gedB A2AF|Bd (3e cFEE|DB,DF GE~G3|\n",
      "g2 Beged edcB|AA~A2|Ag~g3~e2 edfe|dedB BGFA|Bdef gede|fedB AGAB:de|f2fe ac'g ed:|\n",
      "|:ff fed^c ||gfeg afgB|ABAG A3AGA|\n",
      "|:(3efg ed|cd | g2 (3audh\n",
      "R:march\n",
      "Z:id:hn-reel-310\n",
      "M:2/4\n",
      "L:1/8\n",
      "K:Gfedfe|ced BAGF|dg~g2 egfed2|1fd AB/d/c/B/A/G/|DF EEG2|GEGE EE~E2 E2|DG:CD, DG,DCFDG|B2B,GB|B'bg d2FE|D2EF Gge|\n",
      "$\n",
      "X:74\n",
      "T:Cienner\n",
      "R:marians\n",
      "|: ce ced :|2 BAB, #138.\n",
      "H:Velka Bly TuBcBA|Bcde bage|~G3E DEFE|DBGA BAGA:hn-polka-16\n",
      "M:C|\n",
      "L:1/8\n",
      "K:Ed gega | fg~e d2Bd eded|dBdfde G2G2||\n",
      "$\n",
      "X:79\n",
      "T:Dannerin McBc/op |1 dedc BDGE|\n",
      "DEAG FDFA|B,DEF ABdA|GFEF Ggag|dABG AFEF|Aced cAGF|~E3z (3ABc d2|g2 gdBg edBdBGEDBdee | d2ED DEFE|AdcA d2AG|AGFE EGDE|FGEE EDD2^c| d4 g2 BA|\n",
      "G>FGA|\n",
      "e2 (3FGE DFFA:|2 defd edBA|GABcde|dBGB BG~E|EDDE D2|:G2 d2Bd|ge/d/ ef|ge de/d/:|2 (3ABc dg (3Bcd AF EFFA|d2AB dAFA||\n",
      "$\n",
      "X:34\n",
      "T:Leserston Pow\".\n",
      "H:A,C|1 A,DE EFGA|BAGE FEDF|EDEF GABc|d2 (3Bdg eA fded \"DDEF D3||\n",
      "$\n",
      "X:8\n",
      "T:Low ofse fA BAF|\n",
      "Bg~g2 e2estpromon's Polka\n",
      "W:Irerag torned is Mardy the Loor's Magie \\'s Croppos Winot.\n",
      "Z:id:hn-reel-13\n",
      "M:C|\n",
      "K:Edor\n",
      "B>A B2ge|edce dcBA|Adgilley\n",
      "T:Plamels\n",
      "Z:id:hn-reel Galler, The\n",
      "R:reel\n",
      "H:Also in Hil Bolka\n",
      "D:BA|ABcd ble's Polka\n",
      "Z:id:hn-hornpipe-53\n",
      "M:Ccrionno Alsseed il Cast Micken of Contree the dignnt wastled twoiche of artossion of Elind2 Dealter, The\n",
      "R:reel\n",
      "Z:id:hn-reel\n",
      "Z:id:hn-reel-31\n",
      "M:2/4\n",
      "L:1/8\n",
      "K:Begag e2dB|~A3 bge|gfdc BABG|Aeag efge|B3A BAAG|FGAefe a2e2|\n",
      "agfg agef|dBAG AcAF||\n",
      "|:dBAB BGBd|~g3a b2ag|fdga bagg|ag~g2 ~e2fg|bagf gfe|g2dc Bd~g2|dBdc BAFG|BddB c2~A2|afdf e3g||\n",
      "$\n",
      "X:17\n",
      "T:Cuslamon parts\n",
      "Z:id:hn-reer-29\n",
      "M:C:The Carts also pearrith Deer, The\n",
      "R:reell Gavet\n",
      "O:c>AG|FEDF G2AF|1 GEDB AG~G2|ABAF G2Bd|bg}(3efe gBdg|gfed BAGE|\n",
      "(3ABc BA (3BAG AGFB|AGEE|~A3F GAG|FAF ~E3||\n",
      "ABd/c/ eg| ~g3 gB|g2 gb~g2 e2fe|dg~g2 Bgeg|fedB G2B>A:|2 cdfd ecAG |\n",
      "AFAa gedB|~a3g|~g3f geAd|eA Agef gfeg|e2ed efgf|eg~g2 BA|~f3~g3a ~bbb2|~f2BA~G2 A3FA|dBGB Alis (hiehcle:2f2 de|cG AD:Al A2BE|E2E2 EE BGBd|BGBd gedB|~A3G F>B:|2 cAAG Iring, The\n",
      "T:Fady\n",
      "T:Breel't\n",
      "W:1/ | d2 AGE EDEC|\n",
      "ABAG FDEF|~E2ED3EGG~G2~G2GE | EG~FGGBd fafged cAFA|cedc BAGA|\n",
      "dggd edBA|GFGB g2fd|FED DEF GABA| GFAB ABAF|GED2 (3DT:Cor, tutthel Stowah's #top, #86\n",
      "DD|EFAB DG~E2|\n",
      "cdce ceAF|GABc dAFG|E2BA D2dD|gdBd cede|~g3e dedB|Ad=ed bgbg|a~g2 afgf|gefe gedB|cBAF GEE2|BAGB GE~G2GF|Eded d2Bd c2BAce|\n",
      "fddc d2ef|fdcA GE~E2 :|2\n",
      "|: cc AGAB | ADFA | A4 |]\n",
      "$\n",
      "X:87\n",
      "T:Jiprigur MacAonag/B/|eB/c/A GA|B/A/B/c/d/ cB|:Carow.\n",
      "Z:id:hn-reel-11\n",
      "M:C|\n",
      "K:Dbor\n",
      "BABd gdBc|\n",
      "B2BA BABd|cAAF D2BA|1 GB cB/A/|cA A2AB|ce  eded|AGAB d2AF|1 EFAE ABde|bgfg fedc|BABd edBA|~B3d fddf|g2a2 gece|defe ~a3|g2gf e2EA:|2 edBB G2D2 | Aece dcd2 | e4 fe/c/d |1 cde3d2ed | eaag) (3cBA FGFE GFGA|eABd ecdefd|edBA BAFA|GFED ADFF|afef g2ef|ag~g2 dAFA|==Adfd|e2d2 d2f|eded Beed|e\n",
      "X:68\n",
      "T:Five Mgard gaute=D FE|DB,GF BABA||\n",
      "$\n",
      "X:11\n",
      "T:FDB/4\n",
      "L:1/8\n",
      "K:ea ge dege | fed2 c2e2 | gedf ecAG G2G2:|2 AGFG AGFG Fdde|dB~E2 G2BG|cdeg alagh Hoyn\n",
      "T:Calst#00\n",
      "M:3/4\n",
      "L:1/8\n",
      "K:D\n",
      "AG GE~ED:|2Beruad.\n",
      "Z:id:hn-reel-198\n",
      "D:Strote Maerdsifre|ABd2 dedB|cdcd C2ED|DEDF DGED|~B3d edAB|dg~g2 Bd|eAce efed|dg~g2 gedB|Adcc dBAd|bgge d2BG|AGEF G2GA|Bded Adfd|eaag ~g3H:fr\n",
      "Z:id:hn-reel-82\n",
      "M:C|\n",
      "K:Am\n",
      "D:Davutickionsof | ee (cd) ee (3FD/E/|AB d>f|ge ce|ec cd|1 cAAd fe2dB|Ad2BA GEDG|\n",
      "d2D2AF GABd||c2AA A>cAE|EFGA BAGA|BcAG|ABAF ~E3D|FDD2ec|dedB A2AB|cAec cBAG|FEDF GEGB|ceef Afd^e|1 BABd BegB|~d3BBG|~F3D DGFG|A2FA =GBd|\n",
      "Bcd2|dBdG BGBd|AdBd ge~e2|ge~d2 d2:|\n",
      "|:ff gedB|AGAG GABG|~E3E gefe|dedf edBc|defg afed|bagef4|e2ef g2ge|dBcB A2AF|GEDE GAGB|dedB B2|cAAB Acef|edcB c2cB|ABcd e2fd|e2de dcBA|Bdgd BAFG|^Addc | BdBG AFEF|EAB2 Bd~g3f|eaae feDD|EDE:Coltwo Schesed the Ceroed in AABA|DG^FA BEED|EFAd Agfe|defg ageg|BBBB BABc|1 BGG GAB ||\n",
      "$\n",
      "X:10\n",
      "T:Se'Keostervan BA:|\n",
      "[gare  - 2\n",
      "H:Brle to (Provenddand\n",
      "H:Also played imones\n",
      "Z:id:hn-g?ree.\n",
      "Z:Horbf | gfe e/af/e/|dB/A/G Ad:|2 A2 BdBd|BAGF G2BG|AFDF ADEA|efAF G3G|ABdg cedc|dfed cAEF|E>cDG~GG \n",
      "cBcd | e2ef ed~e2 | ~B3A GABG | c2ef egegfed |\n",
      "c2Af fdff efge|\n",
      "Mich:Je, The\n",
      "R:polka\n",
      "H:Onaigher, The\n",
      "R:reel-12\n",
      "M:C|\n",
      "K:D\n",
      "DE|BABc d2Bd|faba|gage fd ef de:|\n",
      "$\n",
      "X:89\n",
      "T:Cather Polka\n",
      "R:reel Bolka ar O'Niemissinn: ated Neissiond stafd tune Hone, The\n",
      "T:Wilm\n",
      "|: gedB =c2de fdec|dg~g2 dB|Ad GGEF|GdBG d2B|cedc BABG|\n",
      "ABAB cBAG|FGAB cAFA|DE~d3 EDD:|\n",
      "|:B2 d2de|fdEA AGAB|cBAB ABdg~B3d|efgf ~g3g|(3efe |1d=\n"
     ]
    }
   ],
   "source": [
    "print generate(model, prime_str='$', predict_len=10000, temperature=1.0)"
   ]
  },
  {
   "cell_type": "code",
   "execution_count": null,
   "metadata": {},
   "outputs": [],
   "source": []
  }
 ],
 "metadata": {
  "kernelspec": {
   "display_name": "Python 2",
   "language": "python",
   "name": "python2"
  },
  "language_info": {
   "codemirror_mode": {
    "name": "ipython",
    "version": 2
   },
   "file_extension": ".py",
   "mimetype": "text/x-python",
   "name": "python",
   "nbconvert_exporter": "python",
   "pygments_lexer": "ipython2",
   "version": "2.7.14"
  }
 },
 "nbformat": 4,
 "nbformat_minor": 2
}
