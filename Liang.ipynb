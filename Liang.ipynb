{
 "cells": [
  {
   "cell_type": "code",
   "execution_count": 2,
   "metadata": {},
   "outputs": [],
   "source": [
    "# convert the <start> <end> to the '$'\n",
    "f2 = open('./data/input2.txt', 'a')\n",
    "\n",
    "with open('./data/input.txt', 'rw') as f:\n",
    "    line = f.readline()\n",
    "    while line:\n",
    "        # print repr(line)\n",
    "        if '<start>' in line:\n",
    "            f2.write('$\\r\\n')\n",
    "        elif '<end>' not in line:\n",
    "            f2.write(line)\n",
    "        line = f.readline()"
   ]
  },
  {
   "cell_type": "code",
   "execution_count": 3,
   "metadata": {},
   "outputs": [],
   "source": [
    "f2.close()"
   ]
  },
  {
   "cell_type": "markdown",
   "metadata": {},
   "source": [
    "以上两块生成新的文件，我把start 和end统一改成了'$'，跑一遍就行了"
   ]
  },
  {
   "cell_type": "code",
   "execution_count": 3,
   "metadata": {},
   "outputs": [
    {
     "data": {
      "text/plain": [
       "True"
      ]
     },
     "execution_count": 3,
     "metadata": {},
     "output_type": "execute_result"
    }
   ],
   "source": [
    "torch.cuda.is_available()"
   ]
  },
  {
   "cell_type": "code",
   "execution_count": 4,
   "metadata": {},
   "outputs": [],
   "source": [
    "with open('./data/input2.txt', 'r') as f:\n",
    "    s_all = f.read()\n",
    "    \n",
    "# s1 = \n",
    "# seq_len = 25\n",
    "# i = 0\n",
    "# data = []\n",
    "# while i + 25 < len(s):\n",
    "#     data.append(list(s[i:i+25]))\n",
    "#     i += 25"
   ]
  },
  {
   "cell_type": "code",
   "execution_count": 5,
   "metadata": {},
   "outputs": [],
   "source": [
    "from collections import Counter\n",
    "counter = Counter(s_all)\n",
    "letter2int = {}\n",
    "i = 0\n",
    "for k, v in counter.most_common():\n",
    "    letter2int[k] = i\n",
    "    i += 1"
   ]
  },
  {
   "cell_type": "code",
   "execution_count": 6,
   "metadata": {},
   "outputs": [],
   "source": [
    "n_letters = len(letter2int)"
   ]
  },
  {
   "cell_type": "code",
   "execution_count": 7,
   "metadata": {},
   "outputs": [
    {
     "data": {
      "text/plain": [
       "95"
      ]
     },
     "execution_count": 7,
     "metadata": {},
     "output_type": "execute_result"
    }
   ],
   "source": [
    "len(letter2int)"
   ]
  },
  {
   "cell_type": "code",
   "execution_count": 8,
   "metadata": {},
   "outputs": [
    {
     "data": {
      "text/plain": [
       "505570"
      ]
     },
     "execution_count": 8,
     "metadata": {},
     "output_type": "execute_result"
    }
   ],
   "source": [
    "len(s_all)"
   ]
  },
  {
   "cell_type": "code",
   "execution_count": 9,
   "metadata": {},
   "outputs": [],
   "source": [
    "import torch\n",
    "import torch.nn as nn\n",
    "from torch import autograd\n",
    "from torch import optim\n",
    "import torch.nn.functional as F\n",
    "import numpy as np\n",
    "from matplotlib import pyplot as plt"
   ]
  },
  {
   "cell_type": "code",
   "execution_count": 10,
   "metadata": {},
   "outputs": [],
   "source": [
    "class LSTM_RNN(nn.Module):\n",
    "\n",
    "    def __init__(self, embedding_dim, hidden_dim, vocab_size, tagset_size, n_layers, batch_size, drop_out):\n",
    "        super(LSTM_RNN, self).__init__()\n",
    "        self.hidden_dim = hidden_dim\n",
    "        self.batch_size = batch_size\n",
    "        self.n_layers = n_layers\n",
    "\n",
    "        self.word_embeddings = nn.Embedding(vocab_size, embedding_dim)\n",
    "\n",
    "        # The LSTM takes word embeddings as inputs, and outputs hidden states\n",
    "        # with dimensionality hidden_dim.\n",
    "        self.lstm = nn.LSTM(embedding_dim, hidden_dim, n_layers, dropout = drop_out)\n",
    "\n",
    "        # The linear layer that maps from hidden state space to tag space\n",
    "        self.hidden2tag = nn.Linear(hidden_dim, tagset_size)\n",
    "        # self.hidden = self.init_hidden()\n",
    "\n",
    "    def init_hidden(self, batch_size):\n",
    "        # Before we've done anything, we dont have any hidden state.\n",
    "        # Refer to the Pytorch documentation to see exactly\n",
    "        # why they have this dimensionality.\n",
    "        # The axes semantics are (num_layers, minibatch_size, hidden_dim)\n",
    "        return (autograd.Variable(torch.zeros(self.n_layers, batch_size, self.hidden_dim)).cuda(),\n",
    "                autograd.Variable(torch.zeros(self.n_layers, batch_size, self.hidden_dim)).cuda())\n",
    "\n",
    "    def forward(self, sentence,hidden):\n",
    "        batch_size = sentence.size()[1]\n",
    "        seq_lens = sentence.size()[0]\n",
    "        \n",
    "        embeds = self.word_embeddings(sentence)\n",
    "        hidden = repackage(hidden)\n",
    "        lstm_out, hidden = self.lstm(\n",
    "            embeds.view(seq_lens, batch_size, -1), hidden)\n",
    "        tag_space = self.hidden2tag(lstm_out.view(seq_lens * batch_size, -1))\n",
    "        tag_scores = F.log_softmax(tag_space)\n",
    "        return tag_scores, hidden\n",
    "    "
   ]
  },
  {
   "cell_type": "code",
   "execution_count": 11,
   "metadata": {},
   "outputs": [],
   "source": [
    "def repackage(h):\n",
    "    if type(h) == autograd.Variable:\n",
    "        return autograd.Variable(h.data)\n",
    "    else:\n",
    "        return tuple(repackage(v) for v in h)"
   ]
  },
  {
   "cell_type": "code",
   "execution_count": 12,
   "metadata": {},
   "outputs": [],
   "source": [
    "s_train = s_all[:int(len(s_all) * 0.8)]\n",
    "s_valid = s_all[int(len(s_all) * 0.8):]"
   ]
  },
  {
   "cell_type": "code",
   "execution_count": 13,
   "metadata": {},
   "outputs": [
    {
     "data": {
      "text/plain": [
       "6319"
      ]
     },
     "execution_count": 13,
     "metadata": {},
     "output_type": "execute_result"
    }
   ],
   "source": [
    "int(len(s_all) * 0.8) / 64"
   ]
  },
  {
   "cell_type": "code",
   "execution_count": 14,
   "metadata": {},
   "outputs": [
    {
     "data": {
      "text/plain": [
       "404456"
      ]
     },
     "execution_count": 14,
     "metadata": {},
     "output_type": "execute_result"
    }
   ],
   "source": [
    "len(s_train)"
   ]
  },
  {
   "cell_type": "code",
   "execution_count": 15,
   "metadata": {},
   "outputs": [],
   "source": [
    "def prepare_sequence(seq, to_ix):\n",
    "    idxs = [to_ix[w] for w in seq]\n",
    "    return idxs\n",
    "\n",
    "def batch_generator(batch_size, chunk_size, s):\n",
    "    i = 0\n",
    "    data = []\n",
    "    while i + chunk_size * batch_size < len(s) - 1:\n",
    "        lines1 = []\n",
    "        lines2 = []\n",
    "        for j in range(batch_size):\n",
    "            lines1.append(s[i + j * chunk_size: i + (j + 1) * chunk_size])\n",
    "            lines2.append(s[i + j * chunk_size + 1: i + (j + 1) * chunk_size + 1])\n",
    "        X = [prepare_sequence(l, letter2int) for l in lines1]\n",
    "        y = [prepare_sequence(l, letter2int) for l in lines2]\n",
    "        X = np.array(X).transpose(1,0)\n",
    "        y = np.array(y).transpose(1,0)\n",
    "        X = torch.LongTensor(X)\n",
    "        y = torch.LongTensor(y)\n",
    "        i += chunk_size * batch_size\n",
    "        X = autograd.Variable(X.cuda())\n",
    "        y = autograd.Variable(y.cuda())\n",
    "        yield X, y"
   ]
  },
  {
   "cell_type": "code",
   "execution_count": 16,
   "metadata": {},
   "outputs": [],
   "source": [
    "# count = 0\n",
    "# for a, b in batch_generator(64, 25, s_train):\n",
    "#     print a.size()\n",
    "#     count += 1\n",
    "# print count"
   ]
  },
  {
   "cell_type": "code",
   "execution_count": 17,
   "metadata": {},
   "outputs": [
    {
     "data": {
      "text/plain": [
       "252"
      ]
     },
     "execution_count": 17,
     "metadata": {},
     "output_type": "execute_result"
    }
   ],
   "source": [
    "len(s_train) / (64 * 25)"
   ]
  },
  {
   "cell_type": "code",
   "execution_count": 81,
   "metadata": {},
   "outputs": [],
   "source": [
    "EMBEDDING_DIM = 64\n",
    "dim = 95\n",
    "HIDDEN_DIM = 100\n",
    "batch_size = 100\n",
    "chunk_size = 25\n",
    "n_layers = 1\n",
    "n_epochs = 300\n",
    "dropout = 0"
   ]
  },
  {
   "cell_type": "code",
   "execution_count": 82,
   "metadata": {},
   "outputs": [],
   "source": [
    "n_train_batch = len(s_train) / (64 * 25)\n",
    "n_valid_batch = len(s_valid) / (64 * 25)"
   ]
  },
  {
   "cell_type": "code",
   "execution_count": 83,
   "metadata": {},
   "outputs": [],
   "source": [
    "model = LSTM_RNN(EMBEDDING_DIM, HIDDEN_DIM, n_letters, n_letters, n_layers, batch_size, dropout)\n",
    "model = model.cuda()\n",
    "loss_function = nn.NLLLoss()\n",
    "optimizer = optim.Adagrad(model.parameters(), lr=0.01)"
   ]
  },
  {
   "cell_type": "code",
   "execution_count": 84,
   "metadata": {},
   "outputs": [],
   "source": [
    "record = [0, 0, 0]\n",
    "last_valid_loss = 100000"
   ]
  },
  {
   "cell_type": "markdown",
   "metadata": {},
   "source": [
    "## Train/Validation Error"
   ]
  },
  {
   "cell_type": "code",
   "execution_count": 85,
   "metadata": {
    "scrolled": true
   },
   "outputs": [
    {
     "name": "stdout",
     "output_type": "stream",
     "text": [
      "epoc = 0\n",
      "epoc = 1\n",
      "epoc = 2\n",
      "epoc = 3\n",
      "epoc = 4\n",
      "epoc = 5\n",
      "epoc = 6\n",
      "epoc = 7\n",
      "epoc = 8\n",
      "epoc = 9\n",
      "epoc = 10\n",
      "epoc = 11\n",
      "epoc = 12\n",
      "epoc = 13\n",
      "epoc = 14\n",
      "epoc = 15\n",
      "epoc = 16\n",
      "epoc = 17\n",
      "epoc = 18\n",
      "epoc = 19\n",
      "epoc = 20\n",
      "epoc = 21\n",
      "epoc = 22\n",
      "epoc = 23\n",
      "epoc = 24\n",
      "epoc = 25\n",
      "epoc = 26\n",
      "epoc = 27\n",
      "epoc = 28\n",
      "epoc = 29\n",
      "epoc = 30\n",
      "epoc = 31\n",
      "epoc = 32\n",
      "epoc = 33\n",
      "epoc = 34\n",
      "epoc = 35\n",
      "epoc = 36\n",
      "epoc = 37\n",
      "epoc = 38\n",
      "epoc = 39\n",
      "epoc = 40\n",
      "epoc = 41\n",
      "epoc = 42\n",
      "epoc = 43\n",
      "epoc = 44\n",
      "epoc = 45\n",
      "epoc = 46\n",
      "epoc = 47\n",
      "epoc = 48\n",
      "epoc = 49\n",
      "epoc = 50\n",
      "epoc = 51\n",
      "epoc = 52\n",
      "epoc = 53\n",
      "epoc = 54\n",
      "epoc = 55\n",
      "epoc = 56\n",
      "epoc = 57\n",
      "epoc = 58\n",
      "epoc = 59\n",
      "epoc = 60\n",
      "epoc = 61\n",
      "epoc = 62\n",
      "epoc = 63\n",
      "epoc = 64\n",
      "epoc = 65\n",
      "epoc = 66\n",
      "epoc = 67\n",
      "epoc = 68\n",
      "epoc = 69\n",
      "epoc = 70\n",
      "epoc = 71\n",
      "epoc = 72\n",
      "epoc = 73\n",
      "epoc = 74\n",
      "epoc = 75\n",
      "epoc = 76\n",
      "epoc = 77\n",
      "epoc = 78\n",
      "epoc = 79\n",
      "epoc = 80\n",
      "epoc = 81\n",
      "epoc = 82\n",
      "epoc = 83\n",
      "epoc = 84\n",
      "epoc = 85\n",
      "epoc = 86\n",
      "epoc = 87\n",
      "epoc = 88\n",
      "epoc = 89\n",
      "epoc = 90\n",
      "epoc = 91\n",
      "epoc = 92\n",
      "epoc = 93\n",
      "epoc = 94\n",
      "epoc = 95\n",
      "epoc = 96\n",
      "epoc = 97\n",
      "epoc = 98\n",
      "epoc = 99\n",
      "epoc = 100\n",
      "epoc = 101\n",
      "epoc = 102\n",
      "epoc = 103\n",
      "epoc = 104\n",
      "epoc = 105\n",
      "epoc = 106\n",
      "epoc = 107\n",
      "epoc = 108\n",
      "epoc = 109\n",
      "epoc = 110\n",
      "epoc = 111\n",
      "epoc = 112\n",
      "epoc = 113\n",
      "epoc = 114\n",
      "epoc = 115\n",
      "epoc = 116\n",
      "epoc = 117\n",
      "epoc = 118\n",
      "epoc = 119\n",
      "epoc = 120\n",
      "epoc = 121\n",
      "epoc = 122\n",
      "epoc = 123\n",
      "epoc = 124\n",
      "epoc = 125\n",
      "epoc = 126\n",
      "epoc = 127\n",
      "epoc = 128\n",
      "epoc = 129\n",
      "epoc = 130\n",
      "epoc = 131\n",
      "epoc = 132\n",
      "epoc = 133\n",
      "epoc = 134\n",
      "epoc = 135\n",
      "epoc = 136\n",
      "epoc = 137\n",
      "epoc = 138\n",
      "epoc = 139\n",
      "epoc = 140\n",
      "epoc = 141\n",
      "epoc = 142\n",
      "epoc = 143\n",
      "epoc = 144\n",
      "epoc = 145\n",
      "epoc = 146\n",
      "epoc = 147\n",
      "epoc = 148\n",
      "epoc = 149\n",
      "epoc = 150\n",
      "epoc = 151\n",
      "epoc = 152\n",
      "epoc = 153\n",
      "epoc = 154\n",
      "epoc = 155\n",
      "epoc = 156\n",
      "epoc = 157\n",
      "epoc = 158\n",
      "epoc = 159\n",
      "epoc = 160\n",
      "epoc = 161\n",
      "epoc = 162\n",
      "epoc = 163\n",
      "epoc = 164\n",
      "epoc = 165\n",
      "epoc = 166\n",
      "epoc = 167\n",
      "epoc = 168\n",
      "epoc = 169\n",
      "epoc = 170\n",
      "epoc = 171\n",
      "epoc = 172\n",
      "epoc = 173\n",
      "epoc = 174\n",
      "epoc = 175\n",
      "epoc = 176\n",
      "epoc = 177\n",
      "epoc = 178\n",
      "epoc = 179\n",
      "epoc = 180\n",
      "epoc = 181\n",
      "epoc = 182\n",
      "epoc = 183\n",
      "epoc = 184\n",
      "epoc = 185\n",
      "epoc = 186\n",
      "epoc = 187\n",
      "epoc = 188\n",
      "epoc = 189\n",
      "epoc = 190\n",
      "epoc = 191\n",
      "epoc = 192\n",
      "epoc = 193\n",
      "epoc = 194\n",
      "epoc = 195\n",
      "epoc = 196\n",
      "epoc = 197\n",
      "epoc = 198\n",
      "epoc = 199\n",
      "epoc = 200\n",
      "epoc = 201\n",
      "epoc = 202\n",
      "epoc = 203\n",
      "epoc = 204\n",
      "epoc = 205\n",
      "epoc = 206\n",
      "epoc = 207\n",
      "epoc = 208\n",
      "epoc = 209\n",
      "epoc = 210\n",
      "epoc = 211\n",
      "epoc = 212\n",
      "epoc = 213\n",
      "epoc = 214\n",
      "epoc = 215\n",
      "epoc = 216\n",
      "epoc = 217\n",
      "epoc = 218\n",
      "epoc = 219\n",
      "epoc = 220\n",
      "epoc = 221\n",
      "epoc = 222\n",
      "epoc = 223\n",
      "epoc = 224\n",
      "epoc = 225\n",
      "epoc = 226\n",
      "epoc = 227\n",
      "epoc = 228\n",
      "epoc = 229\n",
      "epoc = 230\n",
      "epoc = 231\n",
      "epoc = 232\n",
      "epoc = 233\n",
      "epoc = 234\n",
      "epoc = 235\n",
      "epoc = 236\n",
      "epoc = 237\n",
      "epoc = 238\n",
      "epoc = 239\n",
      "epoc = 240\n",
      "epoc = 241\n",
      "epoc = 242\n",
      "epoc = 243\n",
      "epoc = 244\n",
      "epoc = 245\n",
      "epoc = 246\n",
      "epoc = 247\n",
      "epoc = 248\n",
      "epoc = 249\n",
      "epoc = 250\n",
      "epoc = 251\n",
      "epoc = 252\n",
      "epoc = 253\n",
      "epoc = 254\n",
      "epoc = 255\n",
      "epoc = 256\n",
      "epoc = 257\n",
      "epoc = 258\n",
      "epoc = 259\n",
      "epoc = 260\n",
      "epoc = 261\n",
      "epoc = 262\n",
      "epoc = 263\n",
      "epoc = 264\n",
      "epoc = 265\n",
      "epoc = 266\n",
      "epoc = 267\n",
      "epoc = 268\n",
      "epoc = 269\n",
      "epoc = 270\n",
      "epoc = 271\n",
      "epoc = 272\n",
      "epoc = 273\n",
      "epoc = 274\n",
      "epoc = 275\n",
      "epoc = 276\n",
      "epoc = 277\n",
      "epoc = 278\n",
      "epoc = 279\n",
      "epoc = 280\n",
      "epoc = 281\n",
      "epoc = 282\n",
      "epoc = 283\n",
      "epoc = 284\n",
      "epoc = 285\n",
      "epoc = 286\n",
      "epoc = 287\n",
      "epoc = 288\n",
      "epoc = 289\n",
      "epoc = 290\n",
      "epoc = 291\n",
      "epoc = 292\n",
      "epoc = 293\n",
      "epoc = 294\n",
      "epoc = 295\n",
      "epoc = 296\n",
      "epoc = 297\n",
      "epoc = 298\n",
      "epoc = 299\n"
     ]
    }
   ],
   "source": [
    "# See what the scores are before training\n",
    "# Note that element i,j of the output is the score for tag j for word i.\n",
    "#inputs = prepare_sequence(training_data[0][0], word_to_ix)\n",
    "# tag_scores = model(inputs)\n",
    "# print(tag_scores)\n",
    "\n",
    "train_loss = []\n",
    "validation_loss = []\n",
    "\n",
    "for epoch in range(n_epochs):  # again, normally you would NOT do 300 epochs, it is toy data\n",
    "    print 'epoc = %d' %(epoch)\n",
    "    \n",
    "    losses = 0\n",
    "    hidden = model.init_hidden(batch_size)\n",
    "    for X, y in batch_generator(batch_size, chunk_size, s_train):\n",
    "        # Step 1. Remember that Pytorch accumulates gradients.\n",
    "        # We need to clear them out before each instance\n",
    "        model.zero_grad()\n",
    "        # Also, we need to clear out the hidden state of the LSTM,\n",
    "        # detaching it from its history on the last instance.\n",
    "        # Step 2. Get our inputs ready for the network, that is, turn them into\n",
    "        # Variables of word indices.\n",
    "        # sentence_in = prepare_sequence(sentence, word_to_ix)\n",
    "        # targets = prepare_sequence(tags, tag_to_ix)\n",
    "\n",
    "        # Step 3. Run our forward pass.\n",
    "        tag_scores, hidden = model(X, hidden) # X - 25 * 64,\n",
    "        tag_scores = tag_scores.view(-1, dim).cuda() \n",
    "        y = y.contiguous().view(-1).cuda() # convert label y to contiguous\n",
    "\n",
    "        # Step 4. Compute the loss, gradients, and update the parameters by\n",
    "        #  calling optimizer.step()\n",
    "        \n",
    "        loss = loss_function(tag_scores, y)\n",
    "        loss.backward()\n",
    "        optimizer.step()\n",
    "        \n",
    "        losses += loss.data[0]\n",
    "    \n",
    "    losses_valid = 0 \n",
    "    for X, y in batch_generator(batch_size, chunk_size, s_valid):\n",
    "        # Step 1. Remember that Pytorch accumulates gradients.\n",
    "        # We need to clear them out before each instance\n",
    "        model.zero_grad()\n",
    "        # Also, we need to clear out the hidden state of the LSTM,\n",
    "        # detaching it from its history on the last instance.\n",
    "        # Step 2. Get our inputs ready for the network, that is, turn them into\n",
    "        # Variables of word indices.\n",
    "        # sentence_in = prepare_sequence(sentence, word_to_ix)\n",
    "        # targets = prepare_sequence(tags, tag_to_ix)\n",
    "\n",
    "        # Step 3. Run our forward pass.\n",
    "        tag_scores, hidden = model(X, hidden)\n",
    "        tag_scores = tag_scores.view(-1, dim).cuda()\n",
    "        y = y.contiguous().view(-1).cuda()\n",
    "\n",
    "        # Step 4. Compute the loss, gradients, and update the parameters by\n",
    "        #  calling optimizer.step()\n",
    "        \n",
    "        loss = loss_function(tag_scores, y)\n",
    "        losses_valid += loss.data[0]\n",
    "    \n",
    "    train_loss.append(losses/n_train_batch)\n",
    "    validation_loss.append(losses_valid/n_valid_batch)\n",
    "    \n",
    "    record = record[1:]\n",
    "    if losses_valid < last_valid_loss:\n",
    "        record.append(1)\n",
    "    else:\n",
    "        record.append(-1)\n",
    "    if sum(record) == -3:\n",
    "        print 'early stopped'\n",
    "        break\n",
    "    last_valid_loss = losses_valid\n",
    "        \n",
    "#     print 'training:', losses / n_train_batch\n",
    "#     print 'valid:', losses_valid / n_valid_batch\n",
    "\n",
    "# See what the scores are after training\n",
    "# inputs = prepare_sequence(training_data[0][0], word_to_ix)\n",
    "# tag_scores = model(inputs)\n",
    "# The sentence is \"the dog ate the apple\".  i,j corresponds to score for tag j\n",
    "#  for word i. The predicted tag is the maximum scoring tag.\n",
    "# Here, we can see the predicted sequence below is 0 1 2 0 1\n",
    "# since 0 is index of the maximum value of row 1,\n",
    "# 1 is the index of maximum value of row 2, etc.\n",
    "# Which is DET NOUN VERB DET NOUN, the correct sequence!\n",
    "# print(tag_scores)"
   ]
  },
  {
   "cell_type": "code",
   "execution_count": 86,
   "metadata": {},
   "outputs": [
    {
     "data": {
      "image/png": "[encoded data removed]",
      "text/plain": [
       "<matplotlib.figure.Figure at 0x7fbc4c207bd0>"
      ]
     },
     "metadata": {},
     "output_type": "display_data"
    }
   ],
   "source": [
    "plt.figure()\n",
    "plt.title('Loss')\n",
    "plt.plot(train_loss, label='loss_train')\n",
    "plt.plot(validation_loss, label='loss_validation')\n",
    "plt.legend()\n",
    "plt.show()"
   ]
  },
  {
   "cell_type": "code",
   "execution_count": 25,
   "metadata": {},
   "outputs": [],
   "source": [
    "int2letter = {val: key for key, val in letter2int.items()}"
   ]
  },
  {
   "cell_type": "code",
   "execution_count": 26,
   "metadata": {},
   "outputs": [],
   "source": [
    "def prepare_sequence2(seq, to_ix):\n",
    "    idxs = [to_ix[w] for w in seq]\n",
    "    tensor = torch.LongTensor(idxs)\n",
    "    return tensor"
   ]
  },
  {
   "cell_type": "code",
   "execution_count": 27,
   "metadata": {},
   "outputs": [],
   "source": [
    "def generate(model, prime_str='$', predict_len=100, temperature=0.5):\n",
    "    hidden = model.init_hidden(1)\n",
    "    prime_input = prepare_sequence2(prime_str*1, letter2int)\n",
    "    predicted = prime_str\n",
    "\n",
    "    # Use priming string to \"build up\" hidden state\n",
    "    for p in range(len(prime_str) - 1):\n",
    "        _, hidden = model(prime_input[p], hidden)\n",
    "    inp = autograd.Variable(prime_input.cuda())\n",
    "    inp = inp.view(1,-1)\n",
    "    for p in range(predict_len):\n",
    "        output, hidden = model(inp, hidden)\n",
    "        \n",
    "        # Sample from the network as a multinomial distribution\n",
    "        output_dist = output.data.div(temperature).exp()\n",
    "        top_i = torch.multinomial(output_dist, 1)[0]\n",
    "        # return top_i\n",
    "        # Add predicted character to string and use as next input\n",
    "        temp = int2letter[top_i[0]]\n",
    "        if temp==\"$\":\n",
    "            break\n",
    "        predicted += temp\n",
    "        inp = autograd.Variable(prepare_sequence2(temp, letter2int).cuda())\n",
    "        inp = inp.view(1,-1)\n",
    "\n",
    "    return predicted"
   ]
  },
  {
   "cell_type": "code",
   "execution_count": 125,
   "metadata": {},
   "outputs": [
    {
     "name": "stdout",
     "output_type": "stream",
     "text": [
      "$\r\n",
      "X:1\r\n",
      "T:Polka\r\n",
      "Z:id:hn-hornpipe-8\r\n",
      "M:C|\r\n",
      "K:D\r\n",
      "d2 dc|B2G A2A|BAB cde|dBA BAG|ABc d2B|AFA ABc|ed ec|de cB|cB AF|AF G2:|\r\n",
      "|: e2 ed|c2 BA|B/e/d/e/|dB AG|Ad cB|AG FA|FG AB|cA AB|ce dB|B2 A2:|\r\n",
      "|:ag af|ag ag|agf gfe|def gfe|dBc dBA|1 BGA dBA|GBd gdB|cA AF|AF G2:|\r\n",
      "|:ga af|gf ef|ed ed|e2 g>f|ed cB|AF/A/ AG|FE EF|G2 AB|d2 d2 d2|e2 ge|fe dB|AB c/d/ ed|cd/e/ de|fe fg|\r\n",
      "ef ed/B/|AF GB|AF GF/G/|BA G2:|\r\n",
      "\n"
     ]
    }
   ],
   "source": [
    "pred = generate(model, prime_str='$', predict_len=1000, temperature=0.5)\n",
    "print pred"
   ]
  }
 ],
 "metadata": {
  "kernelspec": {
   "display_name": "Python 2",
   "language": "python",
   "name": "python2"
  },
  "language_info": {
   "codemirror_mode": {
    "name": "ipython",
    "version": 2
   },
   "file_extension": ".py",
   "mimetype": "text/x-python",
   "name": "python",
   "nbconvert_exporter": "python",
   "pygments_lexer": "ipython2",
   "version": "2.7.14"
  }
 },
 "nbformat": 4,
 "nbformat_minor": 2
}
